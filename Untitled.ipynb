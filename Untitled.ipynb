{
 "cells": [
  {
   "cell_type": "code",
   "execution_count": 124,
   "id": "c37abe37-ae78-4f13-ab77-cbc1d0b89a45",
   "metadata": {},
   "outputs": [],
   "source": [
    "# Import dependencies\n",
    "import pandas as pd\n",
    "import hvplot.pandas\n",
    "\n",
    "# Function for combining graphs\n",
    "def overlay(df, df2):\n",
    "    df * df2"
   ]
  },
  {
   "cell_type": "code",
   "execution_count": 128,
   "id": "ff0ea381-9ac1-4d25-8864-3cba8264b818",
   "metadata": {},
   "outputs": [
    {
     "ename": "KeyError",
     "evalue": "'Price (Billions)'",
     "output_type": "error",
     "traceback": [
      "\u001b[0;31m---------------------------------------------------------------------------\u001b[0m",
      "\u001b[0;31mKeyError\u001b[0m                                  Traceback (most recent call last)",
      "\u001b[0;32m/opt/anaconda3/lib/python3.9/site-packages/pandas/core/indexes/base.py\u001b[0m in \u001b[0;36mget_loc\u001b[0;34m(self, key, method, tolerance)\u001b[0m\n\u001b[1;32m   3360\u001b[0m             \u001b[0;32mtry\u001b[0m\u001b[0;34m:\u001b[0m\u001b[0;34m\u001b[0m\u001b[0;34m\u001b[0m\u001b[0m\n\u001b[0;32m-> 3361\u001b[0;31m                 \u001b[0;32mreturn\u001b[0m \u001b[0mself\u001b[0m\u001b[0;34m.\u001b[0m\u001b[0m_engine\u001b[0m\u001b[0;34m.\u001b[0m\u001b[0mget_loc\u001b[0m\u001b[0;34m(\u001b[0m\u001b[0mcasted_key\u001b[0m\u001b[0;34m)\u001b[0m\u001b[0;34m\u001b[0m\u001b[0;34m\u001b[0m\u001b[0m\n\u001b[0m\u001b[1;32m   3362\u001b[0m             \u001b[0;32mexcept\u001b[0m \u001b[0mKeyError\u001b[0m \u001b[0;32mas\u001b[0m \u001b[0merr\u001b[0m\u001b[0;34m:\u001b[0m\u001b[0;34m\u001b[0m\u001b[0;34m\u001b[0m\u001b[0m\n",
      "\u001b[0;32m/opt/anaconda3/lib/python3.9/site-packages/pandas/_libs/index.pyx\u001b[0m in \u001b[0;36mpandas._libs.index.IndexEngine.get_loc\u001b[0;34m()\u001b[0m\n",
      "\u001b[0;32m/opt/anaconda3/lib/python3.9/site-packages/pandas/_libs/index.pyx\u001b[0m in \u001b[0;36mpandas._libs.index.IndexEngine.get_loc\u001b[0;34m()\u001b[0m\n",
      "\u001b[0;32mpandas/_libs/hashtable_class_helper.pxi\u001b[0m in \u001b[0;36mpandas._libs.hashtable.PyObjectHashTable.get_item\u001b[0;34m()\u001b[0m\n",
      "\u001b[0;32mpandas/_libs/hashtable_class_helper.pxi\u001b[0m in \u001b[0;36mpandas._libs.hashtable.PyObjectHashTable.get_item\u001b[0;34m()\u001b[0m\n",
      "\u001b[0;31mKeyError\u001b[0m: 'Price (Billions)'",
      "\nThe above exception was the direct cause of the following exception:\n",
      "\u001b[0;31mKeyError\u001b[0m                                  Traceback (most recent call last)",
      "\u001b[0;32m/var/folders/ny/c9fv26ss65x2xh80_pf2dt8h0000gn/T/ipykernel_86174/753784473.py\u001b[0m in \u001b[0;36m<module>\u001b[0;34m\u001b[0m\n\u001b[1;32m     24\u001b[0m \u001b[0;34m\u001b[0m\u001b[0m\n\u001b[1;32m     25\u001b[0m \u001b[0;31m# Rename GDP Columns\u001b[0m\u001b[0;34m\u001b[0m\u001b[0;34m\u001b[0m\u001b[0m\n\u001b[0;32m---> 26\u001b[0;31m \u001b[0mgdp\u001b[0m\u001b[0;34m[\u001b[0m\u001b[0;34m\"GDPC1\"\u001b[0m\u001b[0;34m]\u001b[0m \u001b[0;34m=\u001b[0m \u001b[0mgdp\u001b[0m\u001b[0;34m[\u001b[0m\u001b[0;34m\"Price (Billions)\"\u001b[0m\u001b[0;34m]\u001b[0m\u001b[0;34m\u001b[0m\u001b[0;34m\u001b[0m\u001b[0m\n\u001b[0m",
      "\u001b[0;32m/opt/anaconda3/lib/python3.9/site-packages/pandas/core/frame.py\u001b[0m in \u001b[0;36m__getitem__\u001b[0;34m(self, key)\u001b[0m\n\u001b[1;32m   3456\u001b[0m             \u001b[0;32mif\u001b[0m \u001b[0mself\u001b[0m\u001b[0;34m.\u001b[0m\u001b[0mcolumns\u001b[0m\u001b[0;34m.\u001b[0m\u001b[0mnlevels\u001b[0m \u001b[0;34m>\u001b[0m \u001b[0;36m1\u001b[0m\u001b[0;34m:\u001b[0m\u001b[0;34m\u001b[0m\u001b[0;34m\u001b[0m\u001b[0m\n\u001b[1;32m   3457\u001b[0m                 \u001b[0;32mreturn\u001b[0m \u001b[0mself\u001b[0m\u001b[0;34m.\u001b[0m\u001b[0m_getitem_multilevel\u001b[0m\u001b[0;34m(\u001b[0m\u001b[0mkey\u001b[0m\u001b[0;34m)\u001b[0m\u001b[0;34m\u001b[0m\u001b[0;34m\u001b[0m\u001b[0m\n\u001b[0;32m-> 3458\u001b[0;31m             \u001b[0mindexer\u001b[0m \u001b[0;34m=\u001b[0m \u001b[0mself\u001b[0m\u001b[0;34m.\u001b[0m\u001b[0mcolumns\u001b[0m\u001b[0;34m.\u001b[0m\u001b[0mget_loc\u001b[0m\u001b[0;34m(\u001b[0m\u001b[0mkey\u001b[0m\u001b[0;34m)\u001b[0m\u001b[0;34m\u001b[0m\u001b[0;34m\u001b[0m\u001b[0m\n\u001b[0m\u001b[1;32m   3459\u001b[0m             \u001b[0;32mif\u001b[0m \u001b[0mis_integer\u001b[0m\u001b[0;34m(\u001b[0m\u001b[0mindexer\u001b[0m\u001b[0;34m)\u001b[0m\u001b[0;34m:\u001b[0m\u001b[0;34m\u001b[0m\u001b[0;34m\u001b[0m\u001b[0m\n\u001b[1;32m   3460\u001b[0m                 \u001b[0mindexer\u001b[0m \u001b[0;34m=\u001b[0m \u001b[0;34m[\u001b[0m\u001b[0mindexer\u001b[0m\u001b[0;34m]\u001b[0m\u001b[0;34m\u001b[0m\u001b[0;34m\u001b[0m\u001b[0m\n",
      "\u001b[0;32m/opt/anaconda3/lib/python3.9/site-packages/pandas/core/indexes/base.py\u001b[0m in \u001b[0;36mget_loc\u001b[0;34m(self, key, method, tolerance)\u001b[0m\n\u001b[1;32m   3361\u001b[0m                 \u001b[0;32mreturn\u001b[0m \u001b[0mself\u001b[0m\u001b[0;34m.\u001b[0m\u001b[0m_engine\u001b[0m\u001b[0;34m.\u001b[0m\u001b[0mget_loc\u001b[0m\u001b[0;34m(\u001b[0m\u001b[0mcasted_key\u001b[0m\u001b[0;34m)\u001b[0m\u001b[0;34m\u001b[0m\u001b[0;34m\u001b[0m\u001b[0m\n\u001b[1;32m   3362\u001b[0m             \u001b[0;32mexcept\u001b[0m \u001b[0mKeyError\u001b[0m \u001b[0;32mas\u001b[0m \u001b[0merr\u001b[0m\u001b[0;34m:\u001b[0m\u001b[0;34m\u001b[0m\u001b[0;34m\u001b[0m\u001b[0m\n\u001b[0;32m-> 3363\u001b[0;31m                 \u001b[0;32mraise\u001b[0m \u001b[0mKeyError\u001b[0m\u001b[0;34m(\u001b[0m\u001b[0mkey\u001b[0m\u001b[0;34m)\u001b[0m \u001b[0;32mfrom\u001b[0m \u001b[0merr\u001b[0m\u001b[0;34m\u001b[0m\u001b[0;34m\u001b[0m\u001b[0m\n\u001b[0m\u001b[1;32m   3364\u001b[0m \u001b[0;34m\u001b[0m\u001b[0m\n\u001b[1;32m   3365\u001b[0m         \u001b[0;32mif\u001b[0m \u001b[0mis_scalar\u001b[0m\u001b[0;34m(\u001b[0m\u001b[0mkey\u001b[0m\u001b[0;34m)\u001b[0m \u001b[0;32mand\u001b[0m \u001b[0misna\u001b[0m\u001b[0;34m(\u001b[0m\u001b[0mkey\u001b[0m\u001b[0;34m)\u001b[0m \u001b[0;32mand\u001b[0m \u001b[0;32mnot\u001b[0m \u001b[0mself\u001b[0m\u001b[0;34m.\u001b[0m\u001b[0mhasnans\u001b[0m\u001b[0;34m:\u001b[0m\u001b[0;34m\u001b[0m\u001b[0;34m\u001b[0m\u001b[0m\n",
      "\u001b[0;31mKeyError\u001b[0m: 'Price (Billions)'"
     ]
    }
   ],
   "source": [
    "# Import Constant Maturity Treasury Rate\n",
    "treasuries = pd.read_csv(\n",
    "    \"constant_maturity_treasury_rates.csv\",\n",
    "    index_col=\"Date\",\n",
    "    parse_dates=True,\n",
    "    infer_datetime_format=True\n",
    ")\n",
    "\n",
    "# Import Gold Prices\n",
    "gold = pd.read_csv(\n",
    "    \"GOLD_USD_D.csv\",\n",
    "    index_col=\"Date\",\n",
    "    parse_dates=True,\n",
    "    infer_datetime_format=True\n",
    ")\n",
    "\n",
    "# Import Real GDP\n",
    "gdp = pd.read_csv(\n",
    "    \"real_gdp.csv\",\n",
    "    index_col=\"DATE\",\n",
    "    parse_dates=True,\n",
    "    infer_datetime_format=True\n",
    ")\n",
    "\n",
    "# Rename GDP Columns\n",
    "gdp.rename(columns={\"GDPC1\":\"Price (Billions)\"}"
   ]
  },
  {
   "cell_type": "code",
   "execution_count": 127,
   "id": "5ce4b202-3a65-4d51-9ddb-9f554df2b181",
   "metadata": {},
   "outputs": [
    {
     "data": {},
     "metadata": {},
     "output_type": "display_data"
    },
    {
     "data": {
      "application/vnd.holoviews_exec.v0+json": "",
      "text/html": [
       "<div id='2451'>\n",
       "\n",
       "\n",
       "\n",
       "\n",
       "\n",
       "  <div class=\"bk-root\" id=\"a34e51aa-3fcd-4aa6-b117-15559d0f0bf0\" data-root-id=\"2451\"></div>\n",
       "</div>\n",
       "<script type=\"application/javascript\">(function(root) {\n",
       "  function embed_document(root) {\n",
       "    var docs_json = {\"9f9ca7a9-1d25-46c0-ab92-ad0445da6f1e\":{\"defs\":[{\"extends\":null,\"module\":null,\"name\":\"ReactiveHTML1\",\"overrides\":[],\"properties\":[]},{\"extends\":null,\"module\":null,\"name\":\"FlexBox1\",\"overrides\":[],\"properties\":[{\"default\":\"flex-start\",\"kind\":null,\"name\":\"align_content\"},{\"default\":\"flex-start\",\"kind\":null,\"name\":\"align_items\"},{\"default\":\"row\",\"kind\":null,\"name\":\"flex_direction\"},{\"default\":\"wrap\",\"kind\":null,\"name\":\"flex_wrap\"},{\"default\":\"flex-start\",\"kind\":null,\"name\":\"justify_content\"}]},{\"extends\":null,\"module\":null,\"name\":\"GridStack1\",\"overrides\":[],\"properties\":[{\"default\":\"warn\",\"kind\":null,\"name\":\"mode\"},{\"default\":null,\"kind\":null,\"name\":\"ncols\"},{\"default\":null,\"kind\":null,\"name\":\"nrows\"},{\"default\":true,\"kind\":null,\"name\":\"allow_resize\"},{\"default\":true,\"kind\":null,\"name\":\"allow_drag\"},{\"default\":[],\"kind\":null,\"name\":\"state\"}]},{\"extends\":null,\"module\":null,\"name\":\"click1\",\"overrides\":[],\"properties\":[{\"default\":\"\",\"kind\":null,\"name\":\"terminal_output\"},{\"default\":\"\",\"kind\":null,\"name\":\"debug_name\"},{\"default\":0,\"kind\":null,\"name\":\"clears\"}]},{\"extends\":null,\"module\":null,\"name\":\"TemplateActions1\",\"overrides\":[],\"properties\":[{\"default\":0,\"kind\":null,\"name\":\"open_modal\"},{\"default\":0,\"kind\":null,\"name\":\"close_modal\"}]},{\"extends\":null,\"module\":null,\"name\":\"MaterialTemplateActions1\",\"overrides\":[],\"properties\":[{\"default\":0,\"kind\":null,\"name\":\"open_modal\"},{\"default\":0,\"kind\":null,\"name\":\"close_modal\"}]}],\"roots\":{\"references\":[{\"attributes\":{},\"id\":\"2461\",\"type\":\"LinearScale\"},{\"attributes\":{\"data\":{\"DATE\":{\"__ndarray__\":\"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\",\"dtype\":\"float64\",\"order\":\"little\",\"shape\":[302]},\"GDPC1\":{\"__ndarray__\":\"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\",\"dtype\":\"float64\",\"order\":\"little\",\"shape\":[302]}},\"selected\":{\"id\":\"2487\"},\"selection_policy\":{\"id\":\"2508\"}},\"id\":\"2486\",\"type\":\"ColumnDataSource\"},{\"attributes\":{\"mantissas\":[1,2,5],\"max_interval\":500.0,\"num_minor_ticks\":0},\"id\":\"2511\",\"type\":\"AdaptiveTicker\"},{\"attributes\":{},\"id\":\"2499\",\"type\":\"BasicTickFormatter\"},{\"attributes\":{\"axis_label\":\"DATE\",\"coordinates\":null,\"formatter\":{\"id\":\"2496\"},\"group\":null,\"major_label_policy\":{\"id\":\"2497\"},\"ticker\":{\"id\":\"2466\"}},\"id\":\"2465\",\"type\":\"DatetimeAxis\"},{\"attributes\":{\"axis\":{\"id\":\"2469\"},\"coordinates\":null,\"dimension\":1,\"grid_line_color\":null,\"group\":null,\"ticker\":null},\"id\":\"2472\",\"type\":\"Grid\"},{\"attributes\":{\"num_minor_ticks\":5,\"tickers\":[{\"id\":\"2511\"},{\"id\":\"2512\"},{\"id\":\"2513\"},{\"id\":\"2514\"},{\"id\":\"2515\"},{\"id\":\"2516\"},{\"id\":\"2517\"},{\"id\":\"2518\"},{\"id\":\"2519\"},{\"id\":\"2520\"},{\"id\":\"2521\"},{\"id\":\"2522\"}]},\"id\":\"2466\",\"type\":\"DatetimeTicker\"},{\"attributes\":{},\"id\":\"2522\",\"type\":\"YearsTicker\"},{\"attributes\":{},\"id\":\"2508\",\"type\":\"UnionRenderers\"},{\"attributes\":{\"end\":1648771200000.0,\"reset_end\":1648771200000.0,\"reset_start\":-725846400000.0,\"start\":-725846400000.0,\"tags\":[[[\"DATE\",\"DATE\",null]]]},\"id\":\"2453\",\"type\":\"Range1d\"},{\"attributes\":{},\"id\":\"2496\",\"type\":\"DatetimeTickFormatter\"},{\"attributes\":{},\"id\":\"2500\",\"type\":\"AllLabels\"},{\"attributes\":{},\"id\":\"2470\",\"type\":\"BasicTicker\"},{\"attributes\":{\"line_color\":\"#30a2da\",\"line_width\":2,\"x\":{\"field\":\"DATE\"},\"y\":{\"field\":\"GDPC1\"}},\"id\":\"2494\",\"type\":\"Line\"},{\"attributes\":{\"days\":[1,4,7,10,13,16,19,22,25,28]},\"id\":\"2515\",\"type\":\"DaysTicker\"},{\"attributes\":{},\"id\":\"2487\",\"type\":\"Selection\"},{\"attributes\":{},\"id\":\"2473\",\"type\":\"SaveTool\"},{\"attributes\":{\"months\":[0,2,4,6,8,10]},\"id\":\"2519\",\"type\":\"MonthsTicker\"},{\"attributes\":{\"callback\":null,\"formatters\":{\"@{DATE}\":\"datetime\"},\"renderers\":[{\"id\":\"2492\"}],\"tags\":[\"hv_created\"],\"tooltips\":[[\"DATE\",\"@{DATE}{%F %T}\"],[\"GDPC1\",\"@{GDPC1}\"]]},\"id\":\"2455\",\"type\":\"HoverTool\"},{\"attributes\":{\"margin\":[5,5,5,5],\"name\":\"HSpacer03634\",\"sizing_mode\":\"stretch_width\"},\"id\":\"2452\",\"type\":\"Spacer\"},{\"attributes\":{\"axis_label\":\"GDPC1\",\"coordinates\":null,\"formatter\":{\"id\":\"2499\"},\"group\":null,\"major_label_policy\":{\"id\":\"2500\"},\"ticker\":{\"id\":\"2470\"}},\"id\":\"2469\",\"type\":\"LinearAxis\"},{\"attributes\":{\"base\":60,\"mantissas\":[1,2,5,10,15,20,30],\"max_interval\":1800000.0,\"min_interval\":1000.0,\"num_minor_ticks\":0},\"id\":\"2512\",\"type\":\"AdaptiveTicker\"},{\"attributes\":{\"source\":{\"id\":\"2486\"}},\"id\":\"2493\",\"type\":\"CDSView\"},{\"attributes\":{\"base\":24,\"mantissas\":[1,2,4,6,8,12],\"max_interval\":43200000.0,\"min_interval\":3600000.0,\"num_minor_ticks\":0},\"id\":\"2513\",\"type\":\"AdaptiveTicker\"},{\"attributes\":{\"months\":[0,6]},\"id\":\"2521\",\"type\":\"MonthsTicker\"},{\"attributes\":{},\"id\":\"2474\",\"type\":\"PanTool\"},{\"attributes\":{\"days\":[1,2,3,4,5,6,7,8,9,10,11,12,13,14,15,16,17,18,19,20,21,22,23,24,25,26,27,28,29,30,31]},\"id\":\"2514\",\"type\":\"DaysTicker\"},{\"attributes\":{},\"id\":\"2477\",\"type\":\"ResetTool\"},{\"attributes\":{},\"id\":\"2463\",\"type\":\"LinearScale\"},{\"attributes\":{\"coordinates\":null,\"data_source\":{\"id\":\"2486\"},\"glyph\":{\"id\":\"2489\"},\"group\":null,\"hover_glyph\":null,\"muted_glyph\":{\"id\":\"2491\"},\"nonselection_glyph\":{\"id\":\"2490\"},\"selection_glyph\":{\"id\":\"2494\"},\"view\":{\"id\":\"2493\"}},\"id\":\"2492\",\"type\":\"GlyphRenderer\"},{\"attributes\":{\"coordinates\":null,\"group\":null,\"text_color\":\"black\",\"text_font_size\":\"12pt\"},\"id\":\"2457\",\"type\":\"Title\"},{\"attributes\":{},\"id\":\"2475\",\"type\":\"WheelZoomTool\"},{\"attributes\":{\"below\":[{\"id\":\"2465\"}],\"center\":[{\"id\":\"2468\"},{\"id\":\"2472\"}],\"height\":300,\"left\":[{\"id\":\"2469\"}],\"margin\":[5,5,5,5],\"min_border_bottom\":10,\"min_border_left\":10,\"min_border_right\":10,\"min_border_top\":10,\"renderers\":[{\"id\":\"2492\"}],\"sizing_mode\":\"fixed\",\"title\":{\"id\":\"2457\"},\"toolbar\":{\"id\":\"2479\"},\"width\":700,\"x_range\":{\"id\":\"2453\"},\"x_scale\":{\"id\":\"2461\"},\"y_range\":{\"id\":\"2454\"},\"y_scale\":{\"id\":\"2463\"}},\"id\":\"2456\",\"subtype\":\"Figure\",\"type\":\"Plot\"},{\"attributes\":{\"axis\":{\"id\":\"2465\"},\"coordinates\":null,\"grid_line_color\":null,\"group\":null,\"ticker\":null},\"id\":\"2468\",\"type\":\"Grid\"},{\"attributes\":{\"days\":[1,8,15,22]},\"id\":\"2516\",\"type\":\"DaysTicker\"},{\"attributes\":{\"months\":[0,1,2,3,4,5,6,7,8,9,10,11]},\"id\":\"2518\",\"type\":\"MonthsTicker\"},{\"attributes\":{\"line_alpha\":0.1,\"line_color\":\"#30a2da\",\"line_width\":2,\"x\":{\"field\":\"DATE\"},\"y\":{\"field\":\"GDPC1\"}},\"id\":\"2490\",\"type\":\"Line\"},{\"attributes\":{\"margin\":[5,5,5,5],\"name\":\"HSpacer03635\",\"sizing_mode\":\"stretch_width\"},\"id\":\"2545\",\"type\":\"Spacer\"},{\"attributes\":{\"end\":21804.3157,\"reset_end\":21804.3157,\"reset_start\":226.69929999999977,\"start\":226.69929999999977,\"tags\":[[[\"GDPC1\",\"GDPC1\",null]]]},\"id\":\"2454\",\"type\":\"Range1d\"},{\"attributes\":{\"tools\":[{\"id\":\"2455\"},{\"id\":\"2473\"},{\"id\":\"2474\"},{\"id\":\"2475\"},{\"id\":\"2476\"},{\"id\":\"2477\"}]},\"id\":\"2479\",\"type\":\"Toolbar\"},{\"attributes\":{\"days\":[1,15]},\"id\":\"2517\",\"type\":\"DaysTicker\"},{\"attributes\":{\"bottom_units\":\"screen\",\"coordinates\":null,\"fill_alpha\":0.5,\"fill_color\":\"lightgrey\",\"group\":null,\"left_units\":\"screen\",\"level\":\"overlay\",\"line_alpha\":1.0,\"line_color\":\"black\",\"line_dash\":[4,4],\"line_width\":2,\"right_units\":\"screen\",\"syncable\":false,\"top_units\":\"screen\"},\"id\":\"2478\",\"type\":\"BoxAnnotation\"},{\"attributes\":{\"months\":[0,4,8]},\"id\":\"2520\",\"type\":\"MonthsTicker\"},{\"attributes\":{\"line_color\":\"#30a2da\",\"line_width\":2,\"x\":{\"field\":\"DATE\"},\"y\":{\"field\":\"GDPC1\"}},\"id\":\"2489\",\"type\":\"Line\"},{\"attributes\":{\"line_alpha\":0.2,\"line_color\":\"#30a2da\",\"line_width\":2,\"x\":{\"field\":\"DATE\"},\"y\":{\"field\":\"GDPC1\"}},\"id\":\"2491\",\"type\":\"Line\"},{\"attributes\":{\"children\":[{\"id\":\"2452\"},{\"id\":\"2456\"},{\"id\":\"2545\"}],\"margin\":[0,0,0,0],\"name\":\"Row03630\",\"tags\":[\"embedded\"]},\"id\":\"2451\",\"type\":\"Row\"},{\"attributes\":{\"overlay\":{\"id\":\"2478\"}},\"id\":\"2476\",\"type\":\"BoxZoomTool\"},{\"attributes\":{},\"id\":\"2497\",\"type\":\"AllLabels\"}],\"root_ids\":[\"2451\"]},\"title\":\"Bokeh Application\",\"version\":\"2.4.1\"}};\n",
       "    var render_items = [{\"docid\":\"9f9ca7a9-1d25-46c0-ab92-ad0445da6f1e\",\"root_ids\":[\"2451\"],\"roots\":{\"2451\":\"a34e51aa-3fcd-4aa6-b117-15559d0f0bf0\"}}];\n",
       "    root.Bokeh.embed.embed_items_notebook(docs_json, render_items);\n",
       "  }\n",
       "  if (root.Bokeh !== undefined && root.Bokeh.Panel !== undefined) {\n",
       "    embed_document(root);\n",
       "  } else {\n",
       "    var attempts = 0;\n",
       "    var timer = setInterval(function(root) {\n",
       "      if (root.Bokeh !== undefined && root.Bokeh.Panel !== undefined) {\n",
       "        clearInterval(timer);\n",
       "        embed_document(root);\n",
       "      } else if (document.readyState == \"complete\") {\n",
       "        attempts++;\n",
       "        if (attempts > 200) {\n",
       "          clearInterval(timer);\n",
       "          console.log(\"Bokeh: ERROR: Unable to run BokehJS code because BokehJS library is missing\");\n",
       "        }\n",
       "      }\n",
       "    }, 25, root)\n",
       "  }\n",
       "})(window);</script>"
      ],
      "text/plain": [
       ":Curve   [DATE]   (GDPC1)"
      ]
     },
     "execution_count": 127,
     "metadata": {
      "application/vnd.holoviews_exec.v0+json": {
       "id": "2451"
      }
     },
     "output_type": "execute_result"
    }
   ],
   "source": [
    "gdp.hvplot()"
   ]
  },
  {
   "cell_type": "code",
   "execution_count": null,
   "id": "0850a82f-1a88-4ae4-a024-3800d196ca48",
   "metadata": {},
   "outputs": [],
   "source": []
  },
  {
   "cell_type": "code",
   "execution_count": null,
   "id": "dbbaeebf-c0a6-4094-bc0b-178e60413d36",
   "metadata": {},
   "outputs": [],
   "source": []
  },
  {
   "cell_type": "code",
   "execution_count": null,
   "id": "6037fd70-165d-4a98-8843-709b882574f5",
   "metadata": {},
   "outputs": [],
   "source": []
  },
  {
   "cell_type": "code",
   "execution_count": null,
   "id": "f56bce7a-6ed1-4de6-ac9b-240e90f5c580",
   "metadata": {},
   "outputs": [],
   "source": []
  },
  {
   "cell_type": "code",
   "execution_count": null,
   "id": "cf4a81d9-cbe4-4887-8cd1-8614dc693ad8",
   "metadata": {},
   "outputs": [],
   "source": []
  },
  {
   "cell_type": "code",
   "execution_count": null,
   "id": "76328443-bfbb-47b8-a6ed-08cac4765193",
   "metadata": {},
   "outputs": [],
   "source": []
  },
  {
   "cell_type": "code",
   "execution_count": null,
   "id": "70c9a32f-1438-46c0-9f8b-0f33268c5add",
   "metadata": {},
   "outputs": [],
   "source": []
  },
  {
   "cell_type": "code",
   "execution_count": null,
   "id": "64e03824-bc34-4a41-aa09-05e380500e0d",
   "metadata": {},
   "outputs": [],
   "source": []
  },
  {
   "cell_type": "code",
   "execution_count": null,
   "id": "1ffa60f5-7f3a-43d0-a43d-51e21e781fd0",
   "metadata": {},
   "outputs": [],
   "source": []
  }
 ],
 "metadata": {
  "kernelspec": {
   "display_name": "Python 3 (ipykernel)",
   "language": "python",
   "name": "python3"
  },
  "language_info": {
   "codemirror_mode": {
    "name": "ipython",
    "version": 3
   },
   "file_extension": ".py",
   "mimetype": "text/x-python",
   "name": "python",
   "nbconvert_exporter": "python",
   "pygments_lexer": "ipython3",
   "version": "3.9.7"
  }
 },
 "nbformat": 4,
 "nbformat_minor": 5
}
